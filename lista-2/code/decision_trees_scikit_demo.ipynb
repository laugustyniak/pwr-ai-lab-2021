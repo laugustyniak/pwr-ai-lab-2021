{
 "cells": [
  {
   "cell_type": "markdown",
   "metadata": {},
   "source": [
    "# Decision Trees in Scikit-Learn Demo"
   ]
  },
  {
   "cell_type": "code",
   "execution_count": 11,
   "metadata": {},
   "outputs": [],
   "source": [
    "from pathlib import Path"
   ]
  },
  {
   "cell_type": "code",
   "execution_count": 2,
   "metadata": {},
   "outputs": [
    {
     "name": "stdout",
     "output_type": "stream",
     "text": [
      "Collecting package metadata (current_repodata.json): done\n",
      "Solving environment: done\n",
      "\n",
      "\n",
      "==> WARNING: A newer version of conda exists. <==\n",
      "  current version: 4.9.2\n",
      "  latest version: 4.10.1\n",
      "\n",
      "Please update conda by running\n",
      "\n",
      "    $ conda update -n base -c defaults conda\n",
      "\n",
      "\n",
      "\n",
      "## Package Plan ##\n",
      "\n",
      "  environment location: /home/laugustyniak/anaconda3/envs/pwr-ai-lab\n",
      "\n",
      "  added / updated specs:\n",
      "    - pydotplus\n",
      "\n",
      "\n",
      "The following packages will be downloaded:\n",
      "\n",
      "    package                    |            build\n",
      "    ---------------------------|-----------------\n",
      "    ca-certificates-2021.4.13  |       h06a4308_1         114 KB\n",
      "    openssl-1.1.1k             |       h27cfd23_0         2.5 MB\n",
      "    pydotplus-2.0.2            |           py37_1          42 KB\n",
      "    ------------------------------------------------------------\n",
      "                                           Total:         2.7 MB\n",
      "\n",
      "The following NEW packages will be INSTALLED:\n",
      "\n",
      "  pydotplus          pkgs/main/linux-64::pydotplus-2.0.2-py37_1\n",
      "\n",
      "The following packages will be UPDATED:\n",
      "\n",
      "  ca-certificates                      2021.1.19-h06a4308_1 --> 2021.4.13-h06a4308_1\n",
      "  openssl                                 1.1.1j-h27cfd23_0 --> 1.1.1k-h27cfd23_0\n",
      "\n",
      "\n",
      "\n",
      "Downloading and Extracting Packages\n",
      "openssl-1.1.1k       | 2.5 MB    | ##################################### | 100% \n",
      "ca-certificates-2021 | 114 KB    | ##################################### | 100% \n",
      "pydotplus-2.0.2      | 42 KB     | ##################################### | 100% \n",
      "Preparing transaction: done\n",
      "Verifying transaction: done\n",
      "Executing transaction: done\n",
      "Collecting package metadata (current_repodata.json): done\n",
      "Solving environment: failed with initial frozen solve. Retrying with flexible solve.\n",
      "Solving environment: failed with repodata from current_repodata.json, will retry with next repodata source.\n",
      "Collecting package metadata (repodata.json): done\n",
      "Solving environment: done\n",
      "\n",
      "\n",
      "==> WARNING: A newer version of conda exists. <==\n",
      "  current version: 4.9.2\n",
      "  latest version: 4.10.1\n",
      "\n",
      "Please update conda by running\n",
      "\n",
      "    $ conda update -n base -c defaults conda\n",
      "\n",
      "\n",
      "\n",
      "## Package Plan ##\n",
      "\n",
      "  environment location: /home/laugustyniak/anaconda3/envs/pwr-ai-lab\n",
      "\n",
      "  added / updated specs:\n",
      "    - graphviz\n",
      "\n",
      "\n",
      "The following packages will be downloaded:\n",
      "\n",
      "    package                    |            build\n",
      "    ---------------------------|-----------------\n",
      "    cairo-1.14.12              |       h8948797_3         906 KB\n",
      "    fribidi-1.0.10             |       h7b6447c_0         103 KB\n",
      "    graphite2-1.3.14           |       h23475e2_0          99 KB\n",
      "    graphviz-2.40.1            |       h21bd128_2         6.5 MB\n",
      "    harfbuzz-1.8.8             |       hffaf4a1_0         507 KB\n",
      "    libffi-3.2.1               |    hf484d3e_1007          48 KB\n",
      "    pango-1.42.4               |       h049681c_0         464 KB\n",
      "    pixman-0.40.0              |       h7b6447c_0         370 KB\n",
      "    python-3.7.7               |hcf32534_0_cpython        45.0 MB\n",
      "    ------------------------------------------------------------\n",
      "                                           Total:        54.0 MB\n",
      "\n",
      "The following NEW packages will be INSTALLED:\n",
      "\n",
      "  cairo              pkgs/main/linux-64::cairo-1.14.12-h8948797_3\n",
      "  fribidi            pkgs/main/linux-64::fribidi-1.0.10-h7b6447c_0\n",
      "  graphite2          pkgs/main/linux-64::graphite2-1.3.14-h23475e2_0\n",
      "  graphviz           pkgs/main/linux-64::graphviz-2.40.1-h21bd128_2\n",
      "  harfbuzz           pkgs/main/linux-64::harfbuzz-1.8.8-hffaf4a1_0\n",
      "  pango              pkgs/main/linux-64::pango-1.42.4-h049681c_0\n",
      "  pixman             pkgs/main/linux-64::pixman-0.40.0-h7b6447c_0\n",
      "\n",
      "The following packages will be DOWNGRADED:\n",
      "\n",
      "  glib                                    2.67.4-h36276a3_1 --> 2.63.1-h5a9c865_0\n",
      "  gst-plugins-base                        1.14.0-h8213a91_2 --> 1.14.0-hbbd80ab_1\n",
      "  gstreamer                               1.14.0-h28cd5cc_2 --> 1.14.0-hb453b48_1\n",
      "  libffi                                     3.3-he6710b0_2 --> 3.2.1-hf484d3e_1007\n",
      "  python                                  3.7.10-hdb3f193_0 --> 3.7.7-hcf32534_0_cpython\n",
      "\n",
      "\n",
      "\n",
      "Downloading and Extracting Packages\n",
      "graphite2-1.3.14     | 99 KB     | ##################################### | 100% \n",
      "graphviz-2.40.1      | 6.5 MB    | ##################################### | 100% \n",
      "harfbuzz-1.8.8       | 507 KB    | ##################################### | 100% \n",
      "cairo-1.14.12        | 906 KB    | ##################################### | 100% \n",
      "pixman-0.40.0        | 370 KB    | ##################################### | 100% \n",
      "libffi-3.2.1         | 48 KB     | ##################################### | 100% \n",
      "pango-1.42.4         | 464 KB    | ##################################### | 100% \n",
      "fribidi-1.0.10       | 103 KB    | ##################################### | 100% \n",
      "python-3.7.7         | 45.0 MB   | ##################################### | 100% \n",
      "Preparing transaction: done\n",
      "Verifying transaction: done\n",
      "Executing transaction: done\n"
     ]
    }
   ],
   "source": [
    "# zainstaluj dodatkowe pakiety\n",
    "\n",
    "!conda install pydotplus -y\n",
    "!conda install graphviz -y"
   ]
  },
  {
   "cell_type": "code",
   "execution_count": 25,
   "metadata": {},
   "outputs": [
    {
     "name": "stdout",
     "output_type": "stream",
     "text": [
      "The watermark extension is already loaded. To reload it, use:\n",
      "  %reload_ext watermark\n",
      "Author: Łukasz Augustyniak\n",
      "\n",
      "Last updated: 2021-05-12\n",
      "\n",
      "Python implementation: CPython\n",
      "Python version       : 3.7.10\n",
      "IPython version      : 7.21.0\n",
      "\n",
      "numpy     : 1.19.2\n",
      "scipy     : 1.6.1\n",
      "matplotlib: 3.3.4\n",
      "sklearn   : 0.24.1\n",
      "pydotplus : 2.0.2\n",
      "\n"
     ]
    }
   ],
   "source": [
    "%load_ext watermark\n",
    "%watermark  -d -u -a 'Łukasz Augustyniak' -v -p numpy,scipy,matplotlib,sklearn,pydotplus"
   ]
  },
  {
   "cell_type": "code",
   "execution_count": 5,
   "metadata": {},
   "outputs": [
    {
     "name": "stdout",
     "output_type": "stream",
     "text": [
      "Class labels: [0 1 2]\n"
     ]
    }
   ],
   "source": [
    "from sklearn import datasets\n",
    "import numpy as np\n",
    "\n",
    "\n",
    "iris = datasets.load_iris()\n",
    "X = iris.data[:, [2, 3]]\n",
    "y = iris.target\n",
    "\n",
    "print('Class labels:', np.unique(y))"
   ]
  },
  {
   "cell_type": "code",
   "execution_count": 6,
   "metadata": {},
   "outputs": [],
   "source": [
    "from sklearn.model_selection import train_test_split\n",
    "\n",
    "\n",
    "X_train, X_test, y_train, y_test = train_test_split(\n",
    "    X, y, test_size=0.3, random_state=1, stratify=y)"
   ]
  },
  {
   "cell_type": "code",
   "execution_count": 7,
   "metadata": {},
   "outputs": [
    {
     "name": "stdout",
     "output_type": "stream",
     "text": [
      "Labels counts in y: [50 50 50]\n",
      "Labels counts in y_train: [35 35 35]\n",
      "Labels counts in y_test: [15 15 15]\n"
     ]
    }
   ],
   "source": [
    "print('Labels counts in y:', np.bincount(y))\n",
    "print('Labels counts in y_train:', np.bincount(y_train))\n",
    "print('Labels counts in y_test:', np.bincount(y_test))"
   ]
  },
  {
   "cell_type": "code",
   "execution_count": 17,
   "metadata": {},
   "outputs": [],
   "source": [
    "Path(\"./images\").mkdir(exist_ok=True)"
   ]
  },
  {
   "cell_type": "code",
   "execution_count": 21,
   "metadata": {},
   "outputs": [
    {
     "data": {
      "image/png": "[encoded data removed]",
      "text/plain": [
       "<Figure size 432x288 with 1 Axes>"
      ]
     },
     "metadata": {
      "needs_background": "light"
     },
     "output_type": "display_data"
    }
   ],
   "source": [
    "%matplotlib inline\n",
    "import matplotlib.pyplot as plt\n",
    "from sklearn.tree import DecisionTreeClassifier\n",
    "from mlxtend.plotting import plot_decision_regions\n",
    "\n",
    "\n",
    "tree = DecisionTreeClassifier(\n",
    "    criterion='entropy', # jakie inne miary możemy tutaj dodać?\n",
    "    max_depth=1, # poeksperymnetuj z głebokoscią drzewa\n",
    "    random_state=1\n",
    ")\n",
    "\n",
    "tree.fit(X_train, y_train)\n",
    "\n",
    "\n",
    "plot_decision_regions(X_train, y_train, tree)\n",
    "\n",
    "plt.xlabel('petal length [cm]')\n",
    "plt.ylabel('petal width [cm]')\n",
    "plt.legend(loc='upper left')\n",
    "plt.tight_layout()\n",
    "plt.savefig('images/sklearn_tree.png', dpi=300)\n",
    "plt.savefig('images/sklearn_tree.pdf')\n",
    "plt.show()"
   ]
  },
  {
   "cell_type": "code",
   "execution_count": 22,
   "metadata": {},
   "outputs": [
    {
     "data": {
      "text/plain": [
       "True"
      ]
     },
     "execution_count": 22,
     "metadata": {},
     "output_type": "execute_result"
    }
   ],
   "source": [
    "from pydotplus import graph_from_dot_data\n",
    "from sklearn.tree import export_graphviz\n",
    "\n",
    "\n",
    "dot_data = export_graphviz(tree,\n",
    "                           filled=True, \n",
    "                           rounded=True,\n",
    "                           class_names=['Setosa', \n",
    "                                        'Versicolor',\n",
    "                                        'Virginica'],\n",
    "                           feature_names=['petal length', \n",
    "                                          'petal width'],\n",
    "                           out_file=None) \n",
    "graph = graph_from_dot_data(dot_data) \n",
    "graph.write_png('images/tree.png')"
   ]
  },
  {
   "cell_type": "code",
   "execution_count": 23,
   "metadata": {},
   "outputs": [
    {
     "data": {
      "image/png": "[encoded data removed]",
      "text/plain": [
       "<IPython.core.display.Image object>"
      ]
     },
     "execution_count": 23,
     "metadata": {},
     "output_type": "execute_result"
    }
   ],
   "source": [
    "from IPython.display import Image\n",
    "\n",
    "\n",
    "Image('images/tree.png')"
   ]
  }
 ],
 "metadata": {
  "kernelspec": {
   "display_name": "Python 3",
   "language": "python",
   "name": "python3"
  },
  "language_info": {
   "codemirror_mode": {
    "name": "ipython",
    "version": 3
   },
   "file_extension": ".py",
   "mimetype": "text/x-python",
   "name": "python",
   "nbconvert_exporter": "python",
   "pygments_lexer": "ipython3",
   "version": "3.7.10"
  }
 },
 "nbformat": 4,
 "nbformat_minor": 4
}
