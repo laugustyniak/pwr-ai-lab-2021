{
 "cells": [
  {
   "cell_type": "markdown",
   "metadata": {},
   "source": [
    "# Lista zadań 1"
   ]
  },
  {
   "cell_type": "markdown",
   "metadata": {},
   "source": [
    "AI lab 2021:\n",
    "\n",
    "---\n",
    "\n",
    "**Termin wysyłki listy**: 17.04.2021 23:59 gdziekolwiek na świecie\n",
    "\n",
    "**Max punktacja** 21 zadań po 3p = 63p\n",
    "\n",
    "**Jak wysyłać**\n",
    "\n",
    "Proszę wysyłajcie dwa pliki. \n",
    "\n",
    "1. Notebook z rozszerzeniem `.ipynb` z Waszymi rozwiązaniami wewnątrz. \n",
    "2. Wygenerowany plik `.html` [File/Download/HTML]. Ten plik to backup w razie gdyby były problemy z otworzeniem `.ipynb`. Opcjonalnie, możecie generować też `.pdf` i załączać go zamiast `.html`.\n",
    "\n",
    "Pliki wysyłajcie mailem na adres: lukasz.augustyniak@pwr.edu.pl. \n",
    "\n",
    "Tytuł maila wg schematu: `lista-1-numer_indeksu`. "
   ]
  },
  {
   "cell_type": "markdown",
   "metadata": {},
   "source": [
    "**Ważne**\n",
    "\n",
    "- Pamiętajcie uzupełnić wszystkie komórki gdzie macie informację **[ twoja odpowiedź ]**.\n",
    "- To samo dotyczy miejsc zaznaczonych jako `\"# MIEJSCE NA TWÓJ KOD\"`.\n",
    "- `\"# MIEJSCE NA TWÓJ KOD\"` może obejmować jedną lub więcej linii.\n",
    "\n",
    "**Przykład**\n",
    "\n",
    "Stwórz funkcję, która dla wartości ujemnych zwraca 0 natomiast dla liczb naturalnych zwraca ich konkretną wartość. \n",
    "\n",
    "```python\n",
    "def threshold_func(x):\n",
    "    # YOUR CODE\n",
    "```\n",
    "\n",
    "A valid answer could be\n",
    "\n",
    "```python\n",
    "def threshold_func(x):\n",
    "    if x < 0:\n",
    "        return 0\n",
    "    else:\n",
    "        return x\n",
    "```\n",
    "\n",
    "Another valid solution could be\n",
    "\n",
    "```python\n",
    "def threshold_func(x):\n",
    "    return max(0, x)\n",
    "```\n",
    "\n",
    "\n",
    "---"
   ]
  },
  {
   "cell_type": "code",
   "execution_count": 35,
   "metadata": {},
   "outputs": [
    {
     "name": "stdout",
     "output_type": "stream",
     "text": [
      "The watermark extension is already loaded. To reload it, use:\n",
      "  %reload_ext watermark\n",
      "Author: Łukasz Augustyniak\n",
      "\n",
      "Last updated: 2021-03-17\n",
      "\n",
      "Python implementation: CPython\n",
      "Python version       : 3.7.10\n",
      "IPython version      : 7.21.0\n",
      "\n",
      "numpy     : 1.19.2\n",
      "scipy     : 1.6.1\n",
      "matplotlib: 3.3.4\n",
      "sklearn   : 0.24.1\n",
      "pandas    : 1.2.3\n",
      "\n"
     ]
    }
   ],
   "source": [
    "%load_ext watermark\n",
    "%watermark  -d -u -a 'Łukasz Augustyniak' -v -p numpy,scipy,matplotlib,sklearn,pandas"
   ]
  },
  {
   "cell_type": "markdown",
   "metadata": {},
   "source": [
    "Pakiet `watermark` dostarcza funkcję pomocniczą o tej samej nazwie, czyli `%watermark`, do wyświetlania informacji o naszym środowisku obliczeniowym. Jest to przydatne do śledzenia, jakie wersje oprogramowania są/były używane. Jeśli napotkasz problemy z kodem, upewnij się, że Twój pakiet oprogramowania ma taką samą wersję jak ta pokazana w komórce ze znakiem wodnym.\n",
    "\n",
    "Zanim wykonasz komórkę z `%watermark`, musisz najpierw zainstalować pakiet `watermark`. \n",
    "Jeśli jeszcze tego nie zrobiłeś, wykonaj w nowej komórce\n",
    "\n",
    "    !pip install watermark\n",
    "    \n",
    "albo \n",
    "\n",
    "    !conda install watermark -c conda-forge\n",
    "    \n",
    "Użycie `!` na początku komórki oznacza uruchomienie kodu w linii komend, czyli, np. w bash. \n",
    "    \n",
    "Alternatywnie możesz uruchomić jedno z tych dwóch poleceń (to ostatnie tylko wtedy, gdy masz zainstalowaną Anacondę lub Minicondę) w terminalu (np. bash Linuxa, aplikacja Terminal na macOS lub Cygwin, Putty itp. w Windows, czy też PowerShell/Windows Terminal).\n",
    "\n",
    "Aby uzyskać więcej informacji na temat instalacji Pythona, proszę zapoznać się z podawanymi źródłami dodatkowymi bądź napisz do prowadzącego na kanale Discord."
   ]
  },
  {
   "cell_type": "markdown",
   "metadata": {},
   "source": [
    "## Z 1) [3p]\n",
    "\n",
    "Wybierz 3 przykłady zastosowań uczenia maszynowego z pierwszego wykładu i odpowiedz na następujące pytania:\n",
    "\n",
    "- Jaki jest ogólny cel problemu?\n",
    "- Jak wyglądałby odpowiedni zbiór danych?\n",
    "- Do jakiej ogólnej kategorii uczenia maszynowego (uczenie nadzorowane, nienadzorowane, uczenie ze wzmocnienie) pasuje ten problem?\n",
    "- Jak oceniłbyś wydajność/jakość swojego modelu (w bardzo ogólnych, nietechnicznych kategoriach)?\n",
    "\n",
    "\n",
    "**Przykład -- Klasyfikacja e-maili jako spamu:**\n",
    "\n",
    "- **Cel.** Potencjalnym celem byłoby nauczenie się, jak klasyfikować e-maile jako spam lub nie-spam.\n",
    "- **Zbiór danych.** Zbiór danych składa się z e-maili w postaci tekstowej oraz przypisanych im etykiet, czy danych mail jest spamem czy nim nie jest.\n",
    "- **Kategoria.** Pracujemy z etykietami klas (spam, nie-spam), czyli mamy do czynienia z problemem uczenia nadzorowanego.\n",
    "- **Ocena jakości.** Przewidywanie etykiet klas w zbiorze danych testowych i liczenie liczby poprawnych przewidywań (spam/nie-spam) w celu oszacowania dokładności przewidywań."
   ]
  },
  {
   "cell_type": "markdown",
   "metadata": {},
   "source": [
    "**Przykład 1: [ twoja odpowiedź ]**\n",
    "\n",
    "- **Cel.**  [ twoja odpowiedź ]\n",
    "- **Zbiór danych.** [ twoja odpowiedź ]\n",
    "- **Kategoria.**  [ twoja odpowiedź ]\n",
    "- **Ocena jakości.** [ twoja odpowiedź ]"
   ]
  },
  {
   "cell_type": "markdown",
   "metadata": {},
   "source": [
    "**Przykład 2: [ twoja odpowiedź ]**\n",
    "\n",
    "- **Cel.**  [ twoja odpowiedź ]\n",
    "- **Zbiór danych.** [ twoja odpowiedź ]\n",
    "- **Kategoria.**  [ twoja odpowiedź ]\n",
    "- **Ocena jakości.** [ twoja odpowiedź ]"
   ]
  },
  {
   "cell_type": "markdown",
   "metadata": {},
   "source": [
    "**Przykład 3: [ twoja odpowiedź ]**\n",
    "\n",
    "- **Cel.**  [ twoja odpowiedź ]\n",
    "- **Zbiór danych.** [ twoja odpowiedź ]\n",
    "- **Kategoria.**  [ twoja odpowiedź ]\n",
    "- **Ocena jakości.** [ twoja odpowiedź ]"
   ]
  },
  {
   "cell_type": "markdown",
   "metadata": {},
   "source": [
    "## Z 2)  [3p]\n",
    "\n",
    "\n",
    "\n",
    "Wobraź sobie zadanie trenowania klasyfikatora uczenia maszynowego, który wykrywa raka skóry na podstawie pewnych cech pochodzących z obrazów. Po wyuczeniu modelu stwierdzasz, że Twój klasyfikator przewiduje raka skóry z dokładnością `95%`. Czy uważasz, że dokładność klasyfikacji jest dobrą metryką do oceny przydatności klasyfikatora? Jakie są potencjalne pułapki przy stosowaniu tego klasyfikatora u nowych pacjentów? \n",
    "\n",
    "(Wskazówka: pomyśl o false positives (fałszywyie dodatnich wynikach) i false negatives (fałszywie ujemnych wynikach)."
   ]
  },
  {
   "cell_type": "markdown",
   "metadata": {},
   "source": [
    "**[ twoja odpowiedź ]**"
   ]
  },
  {
   "cell_type": "markdown",
   "metadata": {},
   "source": [
    "## Z 3)  [3p]\n",
    "\n",
    "W zadaniu 2), klasyfikacja nowotworów jest problemem uczenia maszynowego nadzorowanego.\n",
    "\n",
    "Wymień 2 przykłady zadań uczenia nienadzorowanego, należące do kategorii klastrowania. W jednym lub kilku zdaniach wyjaśnij, dlaczego opisałbyś te przykłady jako zadania klasteryzacji, a nie zadania uczenia nadzorowanego. Wybierz przykłady, które nie były podawane na wykładzie."
   ]
  },
  {
   "cell_type": "markdown",
   "metadata": {},
   "source": [
    "**[ your answer ]**"
   ]
  },
  {
   "cell_type": "markdown",
   "metadata": {},
   "source": [
    "## Z 4)  [3p]\n",
    "\n",
    "W algorytmie *k-najbliższych sąsiadów* (*k-NN*), jakie obliczenia wykonywane są w czasie treningu, a jakie w czasie testu? Wyjaśnij swoją odpowiedź w 1-2 zdaniach."
   ]
  },
  {
   "cell_type": "markdown",
   "metadata": {},
   "source": [
    "**[ your answer ]**"
   ]
  },
  {
   "cell_type": "markdown",
   "metadata": {},
   "source": [
    "## Z 5)  [3p]\n",
    "\n",
    "Załóżmy, że używasz klasyfikatora *k*-NN na zbiorze obrazów zawierającym obrazy o wymiarach 200x200*3=120,000 cech. Czy spodziewasz się, że ten klasyfikator będzie działał lepiej lub gorzej (pod względem dokładności predykcji), gdy zmniejszysz liczbę cech poprzez przeskalowanie obrazu (zakładając, że liczba przykładów treningowych jest stała)? Wyjaśnij swoje rozumowanie."
   ]
  },
  {
   "cell_type": "markdown",
   "metadata": {},
   "source": [
    "**[ your answer ]**"
   ]
  },
  {
   "cell_type": "markdown",
   "metadata": {},
   "source": [
    "## Z 6) [3p]\n",
    "\n",
    "Jeśli Twój zbiór danych zawiera kilka zaszumionych (ang. noise) przykładów (lub wartości odstających, ang. outlier), czy lepiej jest zwiększyć czy zmniejszyć *k*? Wyjaśnij swoje rozumowanie."
   ]
  },
  {
   "cell_type": "markdown",
   "metadata": {},
   "source": [
    "**[ your answer ]**"
   ]
  },
  {
   "cell_type": "markdown",
   "metadata": {},
   "source": [
    "## E 7)  [3 pts]\n",
    "\n",
    "Zaimplementuj funkcję delta Kroneckera w Pythonie,\n",
    "\n",
    "$$\n",
    "\\delta(i, j) =\n",
    "    \\begin{cases}\n",
    "            1, &         \\text{if } i=j,\\\\\n",
    "            0, &         \\text{if } i\\neq j.\n",
    "    \\end{cases}\n",
    "$$\n",
    "\n",
    "Instrukcje `assert` są tutaj, aby Ci pomóc: Podniosą one `AssertionError`, jeśli Twoja funkcja zwróci nieoczekiwane wyniki w oparciu o przypadki testowe."
   ]
  },
  {
   "cell_type": "code",
   "execution_count": null,
   "metadata": {},
   "outputs": [],
   "source": [
    "# To jest przykład implementacji funkcji delta Diraca\n",
    "\n",
    "def dirac_delta(x):\n",
    "    if x > 0.5:\n",
    "        return 1\n",
    "    else:\n",
    "        return 0\n",
    "    \n",
    "assert dirac_delta(1) == 1\n",
    "assert dirac_delta(2) == 1\n",
    "assert dirac_delta(-1) == 0\n",
    "assert dirac_delta(0.5) == 0"
   ]
  },
  {
   "cell_type": "markdown",
   "metadata": {},
   "source": [
    "Jak widać `assert` nic nie wyświetliły czyli metoda została zaimplementowana poprawnie. W przeciwnym przypadku dla błędnej implementacji otrzymamy wynik jak po odpaleniu komórki poniżej."
   ]
  },
  {
   "cell_type": "code",
   "execution_count": null,
   "metadata": {},
   "outputs": [],
   "source": [
    "assert dirac_delta(0.5) == 1, 'Nie przejmuj się tym błędem, miał on na celu pokazać wyłącznie jak wygląda `odpalona` asercja'"
   ]
  },
  {
   "cell_type": "code",
   "execution_count": null,
   "metadata": {},
   "outputs": [],
   "source": [
    "def kronecker_delta(i, j):\n",
    "    # MIEJSCE NA TWÓJ KOD\n",
    "    \n",
    "# NIE EDYTUJ LINII PONIŻEJ\n",
    "assert kronecker_delta(1, 0) == 0\n",
    "assert kronecker_delta(2, 2) == 1\n",
    "assert kronecker_delta(-1, 1) == 0\n",
    "assert kronecker_delta(0.5, 0.1) == 0"
   ]
  },
  {
   "cell_type": "markdown",
   "metadata": {},
   "source": [
    "## Z 8)  [3p]\n",
    "\n",
    "Załóżmy, że `y_true` jest listą zawierającą prawdziwe etykiety klas, a `y_pred` jest tablicą zawierającą przewidywane etykiety klas z jakiegoś zadania uczenia maszynowego. Oblicz błąd predykcji **w procentach** (**bez** użycia jakichkolwiek zewnętrznych bibliotek jak NumPy, scikit-learn, pandas)."
   ]
  },
  {
   "cell_type": "code",
   "execution_count": null,
   "metadata": {},
   "outputs": [],
   "source": [
    "y_true = [1, 2, 0, 1, 1, 2, 3, 1, 2, 1]\n",
    "y_pred = [1, 2, 1, 1, 1, 0, 3, 1, 2, 1]\n",
    "\n",
    "\n",
    "correct = 0\n",
    "total_elements = 0\n",
    "for i, j in zip(y_true, y_pred):\n",
    "    # MIEJSCE NA TWÓJ KOD\n",
    "        \n",
    "error =     # MIEJSCE NA TWÓJ KOD\n",
    "        \n",
    "print('Błąd predykcji: %.2f%%' % (error))"
   ]
  },
  {
   "cell_type": "markdown",
   "metadata": {},
   "source": [
    "## Z 9)   [3p]\n",
    "\n",
    "Zaimportuj bibliotekę NumPy, aby utworzyć macierz 3x3 z wartościami z zakresu od 10 do 18.\n",
    "\n",
    "```python\n",
    "array([[10, 11, 12],\n",
    "       [13, 14, 15],\n",
    "       [16, 17, 18]])\n",
    "```"
   ]
  },
  {
   "cell_type": "code",
   "execution_count": null,
   "metadata": {},
   "outputs": [],
   "source": [
    "import numpy as np\n",
    "\n",
    "A = # MIEJSCE NA TWÓJ KOD\n",
    "A"
   ]
  },
  {
   "cell_type": "markdown",
   "metadata": {},
   "source": [
    "## Z 10)  [3p]\n",
    "\n",
    "Utwórz maicerz o wymiarach 2x2 w NumPy z losowymi wartościami z rozkładu jednostajnego (ang. uniform distribution) przy użyciu losowego ziarna (ang. seed) `123` i pokaż wyniki poniżej."
   ]
  },
  {
   "cell_type": "code",
   "execution_count": null,
   "metadata": {},
   "outputs": [],
   "source": [
    "rng = np.random.RandomState(123)\n",
    "# # MIEJSCE NA TWÓJ KOD"
   ]
  },
  {
   "cell_type": "markdown",
   "metadata": {},
   "source": [
    "## Z 11)  [3p]\n",
    "\n",
    "Dana jest tablica `A`,\n",
    "\n",
    "```python\n",
    "array([[ 1,  2,  3,  4],\n",
    "       [ 5,  6,  7,  8],\n",
    "       [ 9, 10, 11, 12],\n",
    "       [13, 14, 15, 16]])\n",
    "```\n",
    "\n",
    "użyj składni NumPy do cięcia macierzy (ang. slicing), aby wybrać tylko macierz o wymiarach 2x2 będącą dolnym prawym rogiem macierzy `A`."
   ]
  },
  {
   "cell_type": "code",
   "execution_count": null,
   "metadata": {},
   "outputs": [],
   "source": [
    "A = np.array([\n",
    "    [1, 2, 3, 4],\n",
    "    [5, 6, 7, 8],\n",
    "    [9, 10, 11, 12],\n",
    "    [13, 14, 15, 16]])\n",
    "\n",
    "# MIEJSCE NA TWÓJ KOD"
   ]
  },
  {
   "cell_type": "markdown",
   "metadata": {},
   "source": [
    "## Z 12)  [3p]\n",
    "\n",
    "Biorąc pod uwagę poniższą tablicę `A`, znajdź najmniejszą liczbę całkowitą w tej tablicy:"
   ]
  },
  {
   "cell_type": "code",
   "execution_count": null,
   "metadata": {},
   "outputs": [],
   "source": [
    "rng = np.random.RandomState(123)\n",
    "A = rng.randint(0, 10, 200)"
   ]
  },
  {
   "cell_type": "code",
   "execution_count": null,
   "metadata": {},
   "outputs": [],
   "source": [
    "# YOUR CODE"
   ]
  },
  {
   "cell_type": "markdown",
   "metadata": {},
   "source": [
    "## Z 13)  [3p]"
   ]
  },
  {
   "cell_type": "markdown",
   "metadata": {},
   "source": [
    "Uzupełnij poniższą linię kodu, aby wczytać zbiór danych `'train_data.txt'`, który składa się z 3 kolumn: 2 kolumny cech i 1 kolumna etykiet klas. Kolumny są oddzielone przecinkami. `df_train.head()` pokaże Ci pierwsze 5 wierszy wczytanego zbioru w formacie DataFrame."
   ]
  },
  {
   "cell_type": "code",
   "execution_count": null,
   "metadata": {},
   "outputs": [],
   "source": [
    "import pandas as pd\n",
    "\n",
    "df_train = pd.read_csv(# MIEJSCE NA TWÓJ KOD)\n",
    "\n",
    "df_train.head()"
   ]
  },
  {
   "cell_type": "markdown",
   "metadata": {},
   "source": [
    "## Z 14)  [3p]\n",
    "\n",
    "Rozważmy poniższy kod, który umieszcza jedną z próbek z klasy 0 na dwuwymiarowym wykresie przy użyciu biblioteki `matplotlib`:"
   ]
  },
  {
   "cell_type": "code",
   "execution_count": null,
   "metadata": {},
   "outputs": [],
   "source": [
    "X_train = df_train[['x1', 'x2']].values\n",
    "y_train = df_train['y'].values"
   ]
  },
  {
   "cell_type": "code",
   "execution_count": null,
   "metadata": {},
   "outputs": [],
   "source": [
    "%matplotlib inline\n",
    "import matplotlib.pyplot as plt\n",
    "\n",
    "\n",
    "plt.scatter(X_train[y_train == 0, 0],\n",
    "            X_train[y_train == 0, 1], \n",
    "            label='class 0',)\n",
    "\n",
    "plt.xlabel('x1')\n",
    "plt.ylabel('x2')\n",
    "plt.xlim([-20, 20])\n",
    "plt.ylim([-20, 20])\n",
    "plt.legend(loc='upper left')\n",
    "plt.show()"
   ]
  },
  {
   "cell_type": "markdown",
   "metadata": {},
   "source": [
    "Teraz, poniższy kod jest identyczny z kodem w poprzedniej komórce kodu, ale zawiera częściowy kod, aby również uwzględnić przykłady z drugiej klasy. Uzupełnij drugą funkcję `plt.scatter`, aby narysować wykres także z przykładami treningowymi dla `klasy 1`."
   ]
  },
  {
   "cell_type": "code",
   "execution_count": null,
   "metadata": {},
   "outputs": [],
   "source": [
    "plt.scatter(X_train[y_train == 0, 0],\n",
    "            X_train[y_train == 0, 1], \n",
    "            label='class 0',)\n",
    "\n",
    "plt.scatter(# MIEJSCE NA TWÓJ KOD)\n",
    "\n",
    "plt.xlabel('x1')\n",
    "plt.ylabel('x2')\n",
    "plt.xlim([-20, 20])\n",
    "plt.ylim([-20, 20])\n",
    "plt.legend(loc='upper left')\n",
    "plt.show()"
   ]
  },
  {
   "cell_type": "markdown",
   "metadata": {},
   "source": [
    "## Z 15)  [3p]\n",
    "\n",
    "Rozważmy, że na poprzednim zbiorze danych wytrenowaliśmy klasyfikator 3-najbliższych sąsiadów za pomocą scikit-learn:"
   ]
  },
  {
   "cell_type": "code",
   "execution_count": null,
   "metadata": {},
   "outputs": [],
   "source": [
    "from sklearn.neighbors import KNeighborsClassifier\n",
    "\n",
    "knn = KNeighborsClassifier(n_neighbors=3)\n",
    "knn.fit(X_train, y_train)"
   ]
  },
  {
   "cell_type": "code",
   "execution_count": null,
   "metadata": {},
   "outputs": [],
   "source": [
    "from mlxtend.plotting import plot_decision_regions\n",
    "\n",
    "plot_decision_regions(X_train, y_train, knn)"
   ]
  },
  {
   "cell_type": "markdown",
   "metadata": {},
   "source": [
    "Oblicz *liczbę* błędnych klasyfikacji klasyfikatora 3-NN na zbiorze treningowym. Liczba błędów powinna być liczbą, tzn. dodatnią liczbą całkowitą."
   ]
  },
  {
   "cell_type": "code",
   "execution_count": null,
   "metadata": {},
   "outputs": [],
   "source": [
    "# MIEJSCE NA TWÓJ KOD"
   ]
  },
  {
   "cell_type": "markdown",
   "metadata": {},
   "source": [
    "## Z 16)  [3p]"
   ]
  },
  {
   "cell_type": "markdown",
   "metadata": {},
   "source": [
    "Użyj kodu z zadania 15), aby \n",
    "\n",
    "- zwizualizować również granice decyzji dla *k*najbliższych sąsiadów klasyfikatorów o k=1, k=5, k=7, k=9\n",
    "- obliczyć błąd predykcji na zbiorze treningowym dla klasyfikatorów *k*najbliższych sąsiadów o k=1, k=5, k=7, k=9"
   ]
  },
  {
   "cell_type": "code",
   "execution_count": null,
   "metadata": {},
   "outputs": [],
   "source": [
    "knn = KNeighborsClassifier(# YOUR CODE)\n",
    "knn.fit(X_train, y_train)\n",
    "plot_decision_regions(# YOUR CODE)\n",
    "print('Errors:', # YOUR CODE)"
   ]
  },
  {
   "cell_type": "code",
   "execution_count": null,
   "metadata": {},
   "outputs": [],
   "source": [
    "knn = KNeighborsClassifier(# YOUR CODE)\n",
    "knn.fit(X_train, y_train)\n",
    "plot_decision_regions(# YOUR CODE)\n",
    "print('Errors:', # YOUR CODE)"
   ]
  },
  {
   "cell_type": "code",
   "execution_count": null,
   "metadata": {},
   "outputs": [],
   "source": [
    "knn = KNeighborsClassifier(# YOUR CODE)\n",
    "knn.fit(X_train, y_train)\n",
    "plot_decision_regions(# YOUR CODE)\n",
    "print('Errors:', # YOUR CODE)"
   ]
  },
  {
   "cell_type": "code",
   "execution_count": null,
   "metadata": {},
   "outputs": [],
   "source": [
    "knn = KNeighborsClassifier(# YOUR CODE)\n",
    "knn.fit(X_train, y_train)\n",
    "plot_decision_regions(# YOUR CODE)\n",
    "print('Errors:', # YOUR CODE)"
   ]
  },
  {
   "cell_type": "markdown",
   "metadata": {},
   "source": [
    "## Z 17)  [3p]"
   ]
  },
  {
   "cell_type": "markdown",
   "metadata": {},
   "source": [
    "Używając podobnego podejścia jak w zadaniu 13), załaduj teraz plik `test_data.txt` do tablicy pandas. Zauważ jednak, iż zbiór danych ma teraz spacje oddzielające kolumny zamiast przecinków."
   ]
  },
  {
   "cell_type": "code",
   "execution_count": null,
   "metadata": {},
   "outputs": [],
   "source": [
    "df_test = pd.read_csv(# YOUR CODE)\n",
    "\n",
    "df_test.head()"
   ]
  },
  {
   "cell_type": "code",
   "execution_count": null,
   "metadata": {},
   "outputs": [],
   "source": [
    "X_test = df_test[['x1', 'x2']].values\n",
    "y_test = df_test['y'].values"
   ]
  },
  {
   "cell_type": "markdown",
   "metadata": {},
   "source": [
    "## Z 18)  [3p]"
   ]
  },
  {
   "cell_type": "markdown",
   "metadata": {},
   "source": [
    "Użyj funkcji `train_test_split` z scikit-learn, aby podzielić zbiór danych treningowych na podzbiór treningowy i zbiór walidacyjny. Zestaw walidacji powinien wynosić 20% rozmiaru zbioru danych treningowych, a podzbiór treningowy powinien wynosić 80% rozmiaru zbioru treningowego. \n",
    "\n",
    "Dla odniesienia, funkcja `train_test_split` jest udokumentowana na stronie http://scikit-learn.org/stable/modules/generated/sklearn.model_selection.train_test_split.html."
   ]
  },
  {
   "cell_type": "code",
   "execution_count": null,
   "metadata": {},
   "outputs": [],
   "source": [
    "from sklearn.model_selection import train_test_split\n",
    "\n",
    "\n",
    "X_train_sub, X_val, y_train_sub, y_val = train_test_split(X_train, y_train,\n",
    "                                                          # MIEJSCE NA TWÓJ KOD,\n",
    "                                                          # MIEJSCE NA TWÓJ KOD,\n",
    "                                                          stratify=y_train)"
   ]
  },
  {
   "cell_type": "markdown",
   "metadata": {},
   "source": [
    "## Z 19)  [3p]"
   ]
  },
  {
   "cell_type": "markdown",
   "metadata": {},
   "source": [
    "Napisz pętlę for do oceny różnych *k* nn modeli z k=1 do k=14. W szczególności, dopasuj `KNeighborsClassifier` na podzbiorze treningowym, a następnie oceń go na podzbiorze treningowym, podzbiorze walidacyjnym i podzbiorze testowym. Oblicz odpowiedni błąd klasyfikacji lub jej dokładność."
   ]
  },
  {
   "cell_type": "code",
   "execution_count": null,
   "metadata": {},
   "outputs": [],
   "source": [
    "for k in range(1, 15):\n",
    "    knn = KNeighborsClassifier(n_neighbors=k)\n",
    "    knn.fit(X_train_sub, y_train_sub)\n",
    "    # MIEJSCE NA TWÓJ KOD"
   ]
  },
  {
   "cell_type": "markdown",
   "metadata": {},
   "source": [
    "## Z 20)  [3p]"
   ]
  },
  {
   "cell_type": "markdown",
   "metadata": {},
   "source": [
    "Rozważmy następującą komórkę kodu, w której zaimplementowany został algorytm klasyfikacji *k*najbliższych sąsiadów zgodnie z API scikit-learn"
   ]
  },
  {
   "cell_type": "code",
   "execution_count": null,
   "metadata": {},
   "outputs": [],
   "source": [
    "import numpy as np\n",
    "\n",
    "\n",
    "class KNNClassifier(object):\n",
    "    def __init__(self, k, dist_fn=None):\n",
    "        self.k = k\n",
    "        if dist_fn is None:\n",
    "            self.dist_fn = self._euclidean_dist\n",
    "    \n",
    "    def _euclidean_dist(self, a, b):\n",
    "        dist = 0.\n",
    "        for ele_i, ele_j in zip(a, b):\n",
    "            dist += ((ele_i - ele_j)**2)\n",
    "        dist = dist**0.5\n",
    "        return dist\n",
    "        \n",
    "    def _find_nearest(self, x):\n",
    "        dist_idx_pairs = []\n",
    "        for j in range(self.dataset_.shape[0]):\n",
    "            d = self.dist_fn(x, self.dataset_[j])\n",
    "            dist_idx_pairs.append((d, j))\n",
    "            \n",
    "        sorted_dist_idx_pairs = sorted(dist_idx_pairs)\n",
    "\n",
    "        return sorted_dist_idx_pairs\n",
    "    \n",
    "    def fit(self, X, y):\n",
    "        self.dataset_ = X.copy()\n",
    "        self.labels_ = y.copy()\n",
    "        self.possible_labels_ = np.unique(y)\n",
    "\n",
    "    def predict(self, X):\n",
    "        predictions = np.zeros(X.shape[0], dtype=int)\n",
    "        for i in range(X.shape[0]):\n",
    "            k_nearest = self._find_nearest(X[i])[:self.k]\n",
    "            indices = [entry[1] for entry in k_nearest]\n",
    "            k_labels = self.labels_[indices]\n",
    "            counts = np.bincount(k_labels,\n",
    "                                 minlength=self.possible_labels_.shape[0])\n",
    "            pred_label = np.argmax(counts)\n",
    "            predictions[i] = pred_label\n",
    "        return predictions"
   ]
  },
  {
   "cell_type": "code",
   "execution_count": null,
   "metadata": {},
   "outputs": [],
   "source": [
    "five_test_inputs = X_train[:5]\n",
    "five_test_labels = y_train[:5]\n",
    "\n",
    "knn = KNNClassifier(k=1)\n",
    "knn.fit(five_test_inputs, five_test_labels)\n",
    "print('True labels:', five_test_labels)\n",
    "print('Pred labels:', knn.predict(five_test_inputs))"
   ]
  },
  {
   "cell_type": "markdown",
   "metadata": {},
   "source": [
    "Ponieważ jest to bardzo prosta implementacja *k*NN, jest ona stosunkowo wolna -- bardzo wolna w porównaniu z implementacją scikit-learn, która używa struktur danych takich jak Ball-tree i KD-tree do znalezienia najbliższych sąsiadów bardziej efektywnie.\n",
    "\n",
    "Podczas gdy nie będziemy implementować zaawansowanych struktur danych w tej klasie, istnieje już oczywista możliwość poprawy wydajności obliczeniowej poprzez zastąpienie pętli for wektoryzowanym kodem NumPy. W szczególności, rozważmy metodę `_euclidean_dist` w klasie `KNNClassifier` powyżej."
   ]
  },
  {
   "cell_type": "code",
   "execution_count": null,
   "metadata": {},
   "outputs": [],
   "source": [
    "def euclidean_dist(a, b):\n",
    "    dist = 0.\n",
    "    for ele_i, ele_j in zip(a, b):\n",
    "        dist += ((ele_i - ele_j)**2)\n",
    "    dist = dist**0.5\n",
    "    return dist"
   ]
  },
  {
   "cell_type": "markdown",
   "metadata": {},
   "source": [
    "Twoim zadaniem jest teraz przeprowadzenie benchmarku tej funkcji przy użyciu magicznej komendy `%timeit`, używając dwóch losowych wektorów `a` i `b` jako danych wejściowych funkcji:"
   ]
  },
  {
   "cell_type": "code",
   "execution_count": null,
   "metadata": {},
   "outputs": [],
   "source": [
    "rng = np.random.RandomState(123)\n",
    "\n",
    "a = rng.rand(100)\n",
    "b = rng.rand(100)"
   ]
  },
  {
   "cell_type": "code",
   "execution_count": null,
   "metadata": {},
   "outputs": [],
   "source": [
    "# MIEJSCE NA TWÓJ KOD"
   ]
  },
  {
   "cell_type": "markdown",
   "metadata": {},
   "source": [
    "## Z 21)  [3p]"
   ]
  },
  {
   "cell_type": "markdown",
   "metadata": {},
   "source": [
    "Teraz przepisz funkcję odległości euklidesowej z E 20) w NumPy używając \n",
    "- albo używając funkcji `np.sqrt` i `np.sum`.\n",
    "- albo funkcji `np.linalg.norm`.\n",
    "\n",
    "Porównaj je ponownie używając magicznej komendy `%timeit`. \n",
    "\n",
    "Następnie porównaj wyniki metody bez wektoryzacji oraz nią. Czy przyspieszyłeś działanie funkcji? Tak czy Nie? Wyjaśnij dlaczego, w 1-2 zdaniach. "
   ]
  },
  {
   "cell_type": "code",
   "execution_count": null,
   "metadata": {},
   "outputs": [],
   "source": [
    "%timeit # MIEJSCE NA TWÓJ KOD"
   ]
  },
  {
   "cell_type": "markdown",
   "metadata": {},
   "source": [
    "**[ twoja odpowiedź ]**"
   ]
  },
  {
   "cell_type": "markdown",
   "metadata": {},
   "source": [
    "# The end"
   ]
  },
  {
   "cell_type": "markdown",
   "metadata": {},
   "source": [
    "Gratuluję skończyłeś listę  numer 1. Teraz przejdź na początek notebook'a i sprawdź jak wysłąć ją do oceny.\n",
    "\n",
    "**UWAGA**\n",
    "Pamiętaj, żeby wysłać notebook razem ze swoimi rozwiązaniami i odpalonymi wszystkimi komórkami. \n",
    "W przeciwnym razie sprawdzenie rozwiązania będzie utrudnione. "
   ]
  }
 ],
 "metadata": {
  "kernelspec": {
   "display_name": "Python 3",
   "language": "python",
   "name": "python3"
  },
  "language_info": {
   "codemirror_mode": {
    "name": "ipython",
    "version": 3
   },
   "file_extension": ".py",
   "mimetype": "text/x-python",
   "name": "python",
   "nbconvert_exporter": "python",
   "pygments_lexer": "ipython3",
   "version": "3.7.10"
  }
 },
 "nbformat": 4,
 "nbformat_minor": 2
}
